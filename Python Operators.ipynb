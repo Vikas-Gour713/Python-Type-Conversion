{
 "cells": [
  {
   "cell_type": "code",
   "execution_count": null,
   "id": "fd6636e4-9b48-4374-963f-ace0130ac705",
   "metadata": {},
   "outputs": [],
   "source": [
    "# 1.Calculate the sum, difference, product, and quotient of two numbers."
   ]
  },
  {
   "cell_type": "code",
   "execution_count": 4,
   "id": "f954ec7b-cd53-4907-a8d0-b1c8806fdde2",
   "metadata": {},
   "outputs": [
    {
     "name": "stdout",
     "output_type": "stream",
     "text": [
      "20\n"
     ]
    }
   ],
   "source": [
    "#sum\n",
    "\n",
    "a= 10\n",
    "b= 10\n",
    "sum=a+b\n",
    "print(sum)"
   ]
  },
  {
   "cell_type": "code",
   "execution_count": 7,
   "id": "f5a524ee-ab55-4933-8900-ca8559489111",
   "metadata": {},
   "outputs": [
    {
     "name": "stdin",
     "output_type": "stream",
     "text": [
      "enter any number  10\n",
      "enter second number 2\n"
     ]
    },
    {
     "name": "stdout",
     "output_type": "stream",
     "text": [
      "Difference 8\n"
     ]
    }
   ],
   "source": [
    "#Difference\n",
    "\n",
    "a=int(input(\"enter any number \"))\n",
    "b=int(input(\"enter second number\"))\n",
    "Difference =a-b\n",
    "print(f'Difference {Difference}')"
   ]
  },
  {
   "cell_type": "code",
   "execution_count": 4,
   "id": "9fd13406-ee27-46da-b24a-71558c5141e1",
   "metadata": {},
   "outputs": [
    {
     "name": "stdout",
     "output_type": "stream",
     "text": [
      "product of two numbers 25\n"
     ]
    }
   ],
   "source": [
    "#Product\n",
    "#c=int(input(\"enter any number \"))\n",
    "d#=int(input(\"enter second number\"))\n",
    "Product=a*b\n",
    "print(f'product of two numbers {Product}')\n",
    "\n"
   ]
  },
  {
   "cell_type": "code",
   "execution_count": 8,
   "id": "66a9995a-1548-41f1-a87d-5d448e808922",
   "metadata": {},
   "outputs": [
    {
     "name": "stdout",
     "output_type": "stream",
     "text": [
      "quotient 5.0\n"
     ]
    }
   ],
   "source": [
    "#quotient\n",
    "\n",
    "Quotient = a%b\n",
    "print(f'quotient {Quotient}')\n"
   ]
  },
  {
   "cell_type": "code",
   "execution_count": 9,
   "id": "51665da3-b969-4657-a157-e27e2eaf0ce4",
   "metadata": {},
   "outputs": [
    {
     "name": "stdout",
     "output_type": "stream",
     "text": [
      "Initial value of x: 10\n",
      "After addition (x += 5): 15\n",
      "After subtraction (x -= 3): 12\n",
      "After multiplication (x *= 2): 24\n",
      "After division (x /= 4): 6.0\n",
      "After modulus (x %= 3): 0.0\n",
      "After exponentiation (x **= 2): 0.0\n",
      "After floor division (x //= 1.5): 0.0\n"
     ]
    }
   ],
   "source": [
    "#2.Perform various assignment operations on a variable.\n",
    "\n",
    "# Initial assignment\n",
    "x = 10\n",
    "print(\"Initial value of x:\", x)\n",
    "\n",
    "# Addition assignment\n",
    "x += 5\n",
    "print(\"After addition (x += 5):\", x)\n",
    "\n",
    "# Subtraction assignment\n",
    "x -= 3\n",
    "print(\"After subtraction (x -= 3):\", x)\n",
    "\n",
    "# Multiplication assignment\n",
    "x *= 2\n",
    "print(\"After multiplication (x *= 2):\", x)\n",
    "\n",
    "# Division assignment\n",
    "x /= 4\n",
    "print(\"After division (x /= 4):\", x) #remender\n",
    "\n",
    "# Modulus assignment\n",
    "x %= 3\n",
    "print(\"After modulus (x %= 3):\", x) #Quotient\n",
    "\n",
    "# Exponentiation assignment\n",
    "x **= 2\n",
    "print(\"After exponentiation (x **= 2):\", x)\n",
    "\n",
    "# Floor division assignment\n",
    "x //= 1.5\n",
    "print(\"After floor division (x //= 1.5):\", x)\n",
    "\n",
    "\n"
   ]
  },
  {
   "cell_type": "code",
   "execution_count": null,
   "id": "cba06c24-dd1a-4c58-8cd8-ee87bf03e285",
   "metadata": {},
   "outputs": [],
   "source": [
    "# 3.Compare two numbers and print the results.\n",
    "num1 = float(input(\"Enter the first number: \"))\n",
    "num2 = float(input(\"Enter the second number: \"))\n",
    "\n",
    "# Compare the numbers\n",
    "if num1 > num2:\n",
    "    print(f\"{num1} is greater than {num2}\")\n",
    "elif num1 < num2:\n",
    "    print(f\"{num1} is less than {num2}\")\n",
    "else:\n",
    "    print(f\"{num1} is equal to {num2}\")\n"
   ]
  },
  {
   "cell_type": "code",
   "execution_count": 26,
   "id": "93790528-8463-400d-8078-c225c1109cbb",
   "metadata": {},
   "outputs": [
    {
     "name": "stdin",
     "output_type": "stream",
     "text": [
      "enter any one no. 3\n",
      "enter second no. 4\n",
      "third no. 5\n"
     ]
    },
    {
     "name": "stdout",
     "output_type": "stream",
     "text": [
      "or condition is true\n",
      "wrong condtions\n"
     ]
    }
   ],
   "source": [
    "# 4.Check conditions using logical operators.\n",
    "c1 = int(input(\"enter any one no.\"))\n",
    "c2 =int(input(\"enter second no.\"))\n",
    "c3 =bool(int(input(\"third no.\")))\n",
    "if c1 and c2 ==c3:\n",
    "        print(\"And condition is true\")\n",
    "        \n",
    "if c1 or c2 == c3:\n",
    "        print(\"or condition is true\")\n",
    "if not c3==c1==c2:\n",
    "        print(\"wrong condtions\")"
   ]
  },
  {
   "cell_type": "code",
   "execution_count": 28,
   "id": "acd9b680-cadd-46b4-af36-4eaaab9971dd",
   "metadata": {},
   "outputs": [
    {
     "name": "stdin",
     "output_type": "stream",
     "text": [
      "Enter a value for var1:  5\n",
      "Enter a value for var2:  6\n"
     ]
    },
    {
     "name": "stdout",
     "output_type": "stream",
     "text": [
      "var1 and var2 refer to different objects in memory\n",
      "Memory address of var1: 133287689748208\n",
      "Memory address of var2: 133287689748272\n"
     ]
    }
   ],
   "source": [
    "# 5. Check the identity of variables.\n",
    "var1 = input(\"Enter a value for var1: \")\n",
    "var2 = input(\"Enter a value for var2: \")\n",
    "\n",
    "# Check identity using 'is' operator\n",
    "if var1 is var2:\n",
    "    print(\"var1 and var2 refer to the same object in memory\")\n",
    "else:\n",
    "    print(\"var1 and var2 refer to different objects in memory\")\n",
    "\n",
    "# Check identity using 'id' function (shows memory address)\n",
    "print(f\"Memory address of var1: {id(var1)}\")\n",
    "print(f\"Memory address of var2: {id(var2)}\")\n"
   ]
  },
  {
   "cell_type": "code",
   "execution_count": null,
   "id": "cc8901e7-823a-40d5-9579-6ead29a326fe",
   "metadata": {},
   "outputs": [],
   "source": [
    "# 6.Perform bitwise operations on any two integers.\n",
    "# Input: Two integers\n",
    "num1 = int(input(\"Enter the first integer: \"))\n",
    "num2 = int(input(\"Enter the second integer: \"))\n",
    "\n",
    "# Perform bitwise operations\n",
    "bitwise_and = num1 & num2\n",
    "bitwise_or = num1 | num2\n",
    "bitwise_xor = num1 ^ num2\n",
    "bitwise_not_num1 = ~num1\n",
    "bitwise_not_num2 = ~num2\n",
    "left_shift_num1 = num1 << 1\n",
    "right_shift_num2 = num2 >> 1\n",
    "\n",
    "# Print the results\n",
    "print(f\"Bitwise AND of {num1} & {num2} = {bitwise_and}\")\n",
    "print(f\"Bitwise OR of {num1} | {num2} = {bitwise_or}\")\n",
    "print(f\"Bitwise XOR of {num1} ^ {num2} = {bitwise_xor}\")\n",
    "print(f\"Bitwise NOT of {num1} = {bitwise_not_num1}\")\n",
    "print(f\"Bitwise NOT of {num2} = {bitwise_not_num2}\")\n",
    "print(f\"Left shift {num1} by 1 = {left_shift_num1}\")\n",
    "print(f\"Right shift {num2} by 1 = {right_shift_num2}\")\n"
   ]
  },
  {
   "cell_type": "code",
   "execution_count": 29,
   "id": "dcc8bd03-17cd-4eb4-8258-e2b2d118f05d",
   "metadata": {},
   "outputs": [
    {
     "name": "stdin",
     "output_type": "stream",
     "text": [
      "Enter a number:  5\n"
     ]
    },
    {
     "name": "stdout",
     "output_type": "stream",
     "text": [
      "The original number is: 5.0\n",
      "The number with the sign changed is: -5.0\n"
     ]
    }
   ],
   "source": [
    "# 7.Use unary operators to change the sign of a number.\n",
    "num = float(input(\"Enter a number: \"))\n",
    "\n",
    "# Change the sign using unary minus operator\n",
    "negated_num = -num\n",
    "\n",
    "# Print the results\n",
    "print(f\"The original number is: {num}\")\n",
    "print(f\"The number with the sign changed is: {negated_num}\")\n",
    "\n"
   ]
  },
  {
   "cell_type": "code",
   "execution_count": null,
   "id": "0f5f97ed-95df-4e18-958d-40b393c0e1d5",
   "metadata": {},
   "outputs": [],
   "source": [
    "# 8.Use the ternary operator to assign values based on conditions.\n",
    "num1 = float(input(\"Enter the first number: \"))\n",
    "num2 = float(input(\"Enter the second number: \"))\n",
    "\n",
    "# Use ternary operator to assign a value based on a condition\n",
    "max_num = num1 if num1 > num2 else num2\n",
    "\n",
    "# Print the result\n",
    "print(f\"The greater number is: {max_num}\")\n"
   ]
  }
 ],
 "metadata": {
  "kernelspec": {
   "display_name": "Python 3 (ipykernel)",
   "language": "python",
   "name": "python3"
  },
  "language_info": {
   "codemirror_mode": {
    "name": "ipython",
    "version": 3
   },
   "file_extension": ".py",
   "mimetype": "text/x-python",
   "name": "python",
   "nbconvert_exporter": "python",
   "pygments_lexer": "ipython3",
   "version": "3.10.8"
  }
 },
 "nbformat": 4,
 "nbformat_minor": 5
}
