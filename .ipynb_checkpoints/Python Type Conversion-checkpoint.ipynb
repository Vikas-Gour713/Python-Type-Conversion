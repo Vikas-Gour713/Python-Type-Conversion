{
 "cells": [
  {
   "cell_type": "code",
   "execution_count": null,
   "id": "b9b4636f-33f6-4cad-bc33-c90db45b0f9d",
   "metadata": {},
   "outputs": [],
   "source": [
    "# Convert an integer to a floating-point number"
   ]
  },
  {
   "cell_type": "code",
   "execution_count": 3,
   "id": "ab3dca59-e842-42bc-b04b-52ccbe868c17",
   "metadata": {},
   "outputs": [
    {
     "name": "stdout",
     "output_type": "stream",
     "text": [
      "10.0\n"
     ]
    }
   ],
   "source": [
    " a = 10\n",
    "print(float( a))\n"
   ]
  },
  {
   "cell_type": "code",
   "execution_count": null,
   "id": "7e0e905c-cb4d-481e-aaf8-e4b03c746615",
   "metadata": {},
   "outputs": [],
   "source": [
    "# Convert a float to an integer."
   ]
  },
  {
   "cell_type": "code",
   "execution_count": 4,
   "id": "2e449df5-dc83-449c-ade8-5ac2ad9203e7",
   "metadata": {},
   "outputs": [
    {
     "name": "stdout",
     "output_type": "stream",
     "text": [
      "10\n"
     ]
    }
   ],
   "source": [
    "a =10.00\n",
    "print(int(a))\n"
   ]
  },
  {
   "cell_type": "code",
   "execution_count": null,
   "id": "44b355b5-367f-4f35-a367-daaa1f3d29a1",
   "metadata": {},
   "outputs": [],
   "source": [
    "#Convert an integer to a string."
   ]
  },
  {
   "cell_type": "code",
   "execution_count": 58,
   "id": "43520ceb-bedc-41f9-a3bf-317cd1b3e545",
   "metadata": {},
   "outputs": [
    {
     "data": {
      "text/plain": [
       "str"
      ]
     },
     "execution_count": 58,
     "metadata": {},
     "output_type": "execute_result"
    }
   ],
   "source": [
    "a =78\n",
    "type(str(a))\n",
    "\n"
   ]
  },
  {
   "cell_type": "code",
   "execution_count": null,
   "id": "4928cfb2-566e-44d5-b821-5c1a1f9df9d4",
   "metadata": {},
   "outputs": [],
   "source": [
    "#Convert a list to a tuple."
   ]
  },
  {
   "cell_type": "code",
   "execution_count": 3,
   "id": "ff2550aa-7066-4151-9abb-3db04182d707",
   "metadata": {},
   "outputs": [
    {
     "data": {
      "text/plain": [
       "tuple"
      ]
     },
     "execution_count": 3,
     "metadata": {},
     "output_type": "execute_result"
    }
   ],
   "source": [
    "mY_list=[1,2,3,4]\n",
    "my_tuple=tuple(mY_list)\n",
    "type(my_tuple)"
   ]
  },
  {
   "cell_type": "code",
   "execution_count": null,
   "id": "194a429e-70a0-4cdb-911b-9bbec038bc31",
   "metadata": {},
   "outputs": [],
   "source": [
    "#Convert a tuple to a list."
   ]
  },
  {
   "cell_type": "code",
   "execution_count": 5,
   "id": "961844ac-0348-4a1b-9716-d8e98ac2fdc9",
   "metadata": {},
   "outputs": [
    {
     "data": {
      "text/plain": [
       "list"
      ]
     },
     "execution_count": 5,
     "metadata": {},
     "output_type": "execute_result"
    }
   ],
   "source": [
    "my_tuple=(4,6,7,8)\n",
    "my_newlist=list(my_tuple)\n",
    "type(my_newlist)"
   ]
  },
  {
   "cell_type": "code",
   "execution_count": null,
   "id": "a9555d17-2461-4617-8428-1e257409ec64",
   "metadata": {},
   "outputs": [],
   "source": [
    "#Convert a decimal number to binary."
   ]
  },
  {
   "cell_type": "code",
   "execution_count": 15,
   "id": "d518dcfb-82bb-462c-89a0-c11983d38653",
   "metadata": {},
   "outputs": [
    {
     "name": "stdout",
     "output_type": "stream",
     "text": [
      "0b10\n"
     ]
    }
   ],
   "source": [
    "my_float=2\n",
    "my_binary=bin(my_float)\n",
    "print(my_binary)"
   ]
  },
  {
   "cell_type": "code",
   "execution_count": null,
   "id": "b3441716-cf5d-4416-80c4-abfd8d459d81",
   "metadata": {},
   "outputs": [],
   "source": [
    "#Convert a non-zero number to boolean."
   ]
  },
  {
   "cell_type": "code",
   "execution_count": 17,
   "id": "64d513e6-ceca-4ff9-89d1-eec9034bf055",
   "metadata": {},
   "outputs": [
    {
     "data": {
      "text/plain": [
       "bool"
      ]
     },
     "execution_count": 17,
     "metadata": {},
     "output_type": "execute_result"
    }
   ],
   "source": [
    "non_zero=4\n",
    "type(bool(non_zero))"
   ]
  }
 ],
 "metadata": {
  "kernelspec": {
   "display_name": "Python 3 (ipykernel)",
   "language": "python",
   "name": "python3"
  },
  "language_info": {
   "codemirror_mode": {
    "name": "ipython",
    "version": 3
   },
   "file_extension": ".py",
   "mimetype": "text/x-python",
   "name": "python",
   "nbconvert_exporter": "python",
   "pygments_lexer": "ipython3",
   "version": "3.10.8"
  }
 },
 "nbformat": 4,
 "nbformat_minor": 5
}
